{
 "cells": [
  {
   "cell_type": "code",
   "execution_count": 132,
   "metadata": {},
   "outputs": [],
   "source": [
    "import pandas as pd\n",
    "from Transaction import *\n",
    "from nacl.signing import SigningKey\n",
    "from nacl.encoding import Base64Encoder\n",
    "from hashlib import sha256\n",
    "from nacl.encoding import HexEncoder\n",
    "from hashlib import sha256 as H"
   ]
  },
  {
   "cell_type": "code",
   "execution_count": 133,
   "metadata": {},
   "outputs": [],
   "source": [
    "# create the keys first using a dataframe \n",
    "keys_list = pd.DataFrame()"
   ]
  },
  {
   "cell_type": "code",
   "execution_count": 134,
   "metadata": {},
   "outputs": [],
   "source": [
    "# generate a list of 8 public keys and 8 private keys along with them and the signatures along with them since the signatures should stay the same for each public key\n",
    "pub_keys_list = []\n",
    "secret_keys_list = []\n",
    "users_list = []\n",
    "user = 'user'\n",
    "for x in range(0, 9):\n",
    "    users_list.append(user + str(x))\n",
    "    sk = SigningKey.generate()\n",
    "    secret_keys_list.append(sk)\n",
    "    pk = sk.verify_key\n",
    "    pub_keys_list.append(pk)"
   ]
  },
  {
   "cell_type": "code",
   "execution_count": 135,
   "metadata": {},
   "outputs": [],
   "source": [
    "# add these two list to the dataframe\n",
    "keys_list['users'] = users_list\n",
    "keys_list['pub_key'] = pub_keys_list\n",
    "keys_list['sk'] = secret_keys_list"
   ]
  },
  {
   "cell_type": "code",
   "execution_count": 136,
   "metadata": {},
   "outputs": [
    {
     "name": "stdout",
     "output_type": "stream",
     "text": [
      "   users                                            pub_key  \\\n",
      "0  user0  b\"k\\xa6\\x97F\\x1f\\x0e|&\\xa2\\xe9\\xb9\\x84\\xbevF\\x...   \n",
      "1  user1  b'\\x19\\xcc\\x1d\\xd5r\\xdfL\\x90\\x1d~\\xe2I4\\x12\\r\\...   \n",
      "2  user2  b\"2\\x9c\\xed\\x9f!\\xf9\\xd6\\xed\\xfc|\\x88N\\xfd\\x8a...   \n",
      "3  user3  b'\\xed\\xa7\\xcdQ\\xb6\\x07G\\xecp\\xe8\\xf8\\x94\\x95\\...   \n",
      "4  user4  b'\\x08F\\x0f\\x91\\xd9\\x15!f\\x0b\\x18\\xc3\\x86\\x9e3...   \n",
      "5  user5  b'\\xa7\\x95e\\xed\\x96\\xc8\\xd3\\xc8\\x94\\xf0\\xb6\\xa...   \n",
      "6  user6  b'\\xb715\\xd7\\xf7\\x01m\\x13k\\x03\\x8a\\xac+~w%d\\xa...   \n",
      "7  user7  b'\\xd1w\\xadR\\\\z\\x12\\x05\\x9bj\\xa6\\xc1\\xb8FR\\x99...   \n",
      "8  user8  b'c\\xe6o%Ro-@\\xc2\\xf9\\xfegt|\\xd6\\xbd;{1Y\\xe0\\x...   \n",
      "\n",
      "                                                  sk  \n",
      "0  b\"\\xfd\\xbc\\x8d\\xbc@,\\x19\\x19~''\\xfe\\x02\\x8f\\xa...  \n",
      "1  b'\\x96x\\n,\\xf6p\\xd8`\\xff\\x17@\\x83\\x93\\x8ak\\xc8...  \n",
      "2  b'\\x9a\\xa9\\xf53\\xab\\xb2B\\xcd\\xddxKS\\x1aae\\x92\\...  \n",
      "3  b'\\xd9\\x84\\xd3N(8ra\\xab\\xe2FKF\\x97\"\\xea\\x8b\\xa...  \n",
      "4  b'j\\x02\\x0em\\xd8\\xf1\\xcc8\\xc5v=\\xd8\\xdc\\xfaW\\x...  \n",
      "5  b'\\xccJ\\xe0\\xde<\\xf5\\xba\\xe2\\xffFF\\xca2\\xd0\\xe...  \n",
      "6  b'\\xf0-\\xde\\x9c?zp\\x9c\\xb5n\\x82m\\xd2\\x0c\\xe5\\x...  \n",
      "7  b'\\xedP\\xcdr\\x1d\\x0e\\xf6\\x10y\\x8f\\x13T\\xb2\\xbe...  \n",
      "8  b'\\xac\\xbc5\\xbb6\\x9eH\\xe4\\x18\\xd9G\\xcc\\x92#\\xd...  \n"
     ]
    }
   ],
   "source": [
    "print(keys_list)"
   ]
  },
  {
   "cell_type": "code",
   "execution_count": 137,
   "metadata": {},
   "outputs": [],
   "source": [
    "from nacl.signing import SigningKey\n",
    "\n",
    "def createSignature(input, output, user_sk):\n",
    "    # temp = input.encode()\n",
    "    temp = output.encode()\n",
    "    signature = user_sk.sign(temp, encoder=Base64Encoder).decode()\n",
    "    return signature"
   ]
  },
  {
   "cell_type": "code",
   "execution_count": 138,
   "metadata": {},
   "outputs": [],
   "source": [
    "# create the genesis transaction first - create 8 different ones \n",
    "output_1 = transaction_output(100, keys_list['pub_key'][0].encode(encoder=Base64Encoder).decode())\n",
    "new_output_1 = output_1.create_list()\n",
    "output_2 = transaction_output(100, keys_list['pub_key'][1].encode(encoder=Base64Encoder).decode())\n",
    "new_output_2 = output_2.create_list()\n",
    "output_3 = transaction_output(100, keys_list['pub_key'][2].encode(encoder=Base64Encoder).decode())\n",
    "new_output_3 = output_3.create_list()\n",
    "output_4 = transaction_output(100, keys_list['pub_key'][3].encode(encoder=Base64Encoder).decode())\n",
    "new_output_4 = output_4.create_list()\n",
    "output_5 = transaction_output(100, keys_list['pub_key'][4].encode(encoder=Base64Encoder).decode())\n",
    "new_output_5 = output_5.create_list()\n",
    "output_6 = transaction_output(100, keys_list['pub_key'][5].encode(encoder=Base64Encoder).decode())\n",
    "new_output_6 = output_6.create_list()\n",
    "output_7 = transaction_output(100, keys_list['pub_key'][6].encode(encoder=Base64Encoder).decode())\n",
    "new_output_7 = output_7.create_list()\n",
    "output_8 = transaction_output(100, keys_list['pub_key'][7].encode(encoder=Base64Encoder).decode())\n",
    "new_output_8 = output_8.create_list()"
   ]
  },
  {
   "cell_type": "code",
   "execution_count": 139,
   "metadata": {},
   "outputs": [],
   "source": [
    "all_outputs = []\n",
    "all_outputs.append(new_output_1)\n",
    "all_outputs.append(new_output_2)\n",
    "all_outputs.append(new_output_3)\n",
    "all_outputs.append(new_output_4)\n",
    "all_outputs.append(new_output_5)\n",
    "all_outputs.append(new_output_6)\n",
    "all_outputs.append(new_output_7)\n",
    "all_outputs.append(new_output_8)\n"
   ]
  },
  {
   "cell_type": "code",
   "execution_count": 140,
   "metadata": {},
   "outputs": [],
   "source": [
    "g_sig = createSignature(None, json.dumps(all_outputs), keys_list['sk'][0])"
   ]
  },
  {
   "cell_type": "code",
   "execution_count": 141,
   "metadata": {},
   "outputs": [],
   "source": [
    "def value(transaction_number, output_list, sig):\n",
    "    list_value = [str(transaction_number)]\n",
    "    for output_tx in output_list:\n",
    "        list_value.append(output_tx.toString())\n",
    "    list_value.append(sig)\n",
    "    return ''.join(list_value)"
   ]
  },
  {
   "cell_type": "code",
   "execution_count": 142,
   "metadata": {},
   "outputs": [],
   "source": [
    "g_transaction = Transaction(1, None, all_outputs, g_sig, None)\n",
    "json_object = json.dumps(g_transaction.getJson(1), indent=4)\n",
    "with open(\"genesis_tx.json\", \"w\") as outfile:\n",
    "    outfile.write(json_object)"
   ]
  },
  {
   "cell_type": "code",
   "execution_count": 143,
   "metadata": {},
   "outputs": [],
   "source": [
    "new_dataframe = pd.DataFrame()\n",
    "pubkey = []\n",
    "skey = []\n",
    "for x in range(0, 9):\n",
    "    users_list.append(user + str(x))\n",
    "for i in keys_list['pub_key']:\n",
    "    pk = i.encode(encoder=Base64Encoder).decode()\n",
    "    pubkey.append(pk)\n",
    "for x in keys_list['sk']:\n",
    "    sk = x.encode(encoder=Base64Encoder).decode()\n",
    "    skey.append(sk)\n",
    "new_dataframe['pubkey'] = pubkey\n",
    "new_dataframe['skey'] = skey\n",
    "new_dataframe.to_csv('keys.csv')"
   ]
  },
  {
   "cell_type": "code",
   "execution_count": 144,
   "metadata": {},
   "outputs": [
    {
     "name": "stderr",
     "output_type": "stream",
     "text": [
      "/var/folders/vt/v9235t1j1fz10ydwp5g_5s7c0000gn/T/ipykernel_39640/1065302050.py:1: FutureWarning: Using short name for 'orient' is deprecated. Only the options: ('dict', list, 'series', 'split', 'records', 'index') will be used in a future version. Use one of the above to silence this warning.\n",
      "  my_key_dict = new_dataframe.set_index('pubkey').T.to_dict('skey')\n"
     ]
    }
   ],
   "source": [
    "my_key_dict = new_dataframe.set_index('pubkey').T.to_dict('skey')"
   ]
  }
 ],
 "metadata": {
  "kernelspec": {
   "display_name": "venv",
   "language": "python",
   "name": "python3"
  },
  "language_info": {
   "codemirror_mode": {
    "name": "ipython",
    "version": 3
   },
   "file_extension": ".py",
   "mimetype": "text/x-python",
   "name": "python",
   "nbconvert_exporter": "python",
   "pygments_lexer": "ipython3",
   "version": "3.8.9"
  },
  "orig_nbformat": 4,
  "vscode": {
   "interpreter": {
    "hash": "3cebf0bba70b35314e96347d8018d154febdac7bb84e889dd2ac53214d627345"
   }
  }
 },
 "nbformat": 4,
 "nbformat_minor": 2
}
