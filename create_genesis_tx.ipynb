{
 "cells": [
  {
   "cell_type": "code",
   "execution_count": 37,
   "metadata": {},
   "outputs": [],
   "source": [
    "import pandas as pd\n",
    "from Transaction import *\n",
    "from nacl.signing import SigningKey\n",
    "from nacl.encoding import Base64Encoder\n",
    "from hashlib import sha256\n",
    "from nacl.encoding import HexEncoder"
   ]
  },
  {
   "cell_type": "code",
   "execution_count": 38,
   "metadata": {},
   "outputs": [],
   "source": [
    "# create the keys first using a dataframe \n",
    "keys_list = pd.DataFrame()"
   ]
  },
  {
   "cell_type": "code",
   "execution_count": 39,
   "metadata": {},
   "outputs": [],
   "source": [
    "# generate a list of 8 public keys and 8 private keys along with them and the signatures along with them since the signatures should stay the same for each public key\n",
    "pub_keys_list = []\n",
    "secret_keys_list = []\n",
    "users_list = []\n",
    "user = 'user'\n",
    "for x in range(0, 8):\n",
    "    users_list.append(user + str(x))\n",
    "    sk = SigningKey.generate()\n",
    "    secret_keys_list.append(sk)\n",
    "    pk = sk.verify_key\n",
    "    pub_keys_list.append(pk)"
   ]
  },
  {
   "cell_type": "code",
   "execution_count": 40,
   "metadata": {},
   "outputs": [],
   "source": [
    "# add these two list to the dataframe\n",
    "keys_list['users'] = users_list\n",
    "keys_list['pubkey'] = pub_keys_list\n",
    "keys_list['sk'] = secret_keys_list"
   ]
  },
  {
   "cell_type": "code",
   "execution_count": 41,
   "metadata": {},
   "outputs": [],
   "source": [
    "def createGenesisSignature(output, user_sk):\n",
    "    temp = output.encode()\n",
    "    signature = user_sk.sign(temp, encoder=Base64Encoder).decode()\n",
    "    return signature"
   ]
  },
  {
   "cell_type": "code",
   "execution_count": 42,
   "metadata": {},
   "outputs": [],
   "source": [
    "# create the genesis transaction first - create 8 different ones \n",
    "output_1 = transaction_output(\"100\", keys_list['pubkey'][0].encode(encoder=Base64Encoder).decode())\n",
    "output_2 = transaction_output(\"100\", keys_list['pubkey'][1].encode(encoder=Base64Encoder).decode())\n",
    "output_3 = transaction_output(\"100\", keys_list['pubkey'][2].encode(encoder=Base64Encoder).decode())\n",
    "output_4 = transaction_output(\"100\", keys_list['pubkey'][3].encode(encoder=Base64Encoder).decode())\n",
    "output_5 = transaction_output(\"100\", keys_list['pubkey'][4].encode(encoder=Base64Encoder).decode())\n",
    "output_6 = transaction_output(\"100\", keys_list['pubkey'][5].encode(encoder=Base64Encoder).decode())\n",
    "output_7 = transaction_output(\"100\", keys_list['pubkey'][6].encode(encoder=Base64Encoder).decode())\n",
    "output_8 = transaction_output(\"100\", keys_list['pubkey'][7].encode(encoder=Base64Encoder).decode())"
   ]
  },
  {
   "cell_type": "code",
   "execution_count": 43,
   "metadata": {},
   "outputs": [],
   "source": [
    "all_outputs = []\n",
    "all_outputs.append(output_1)\n",
    "all_outputs.append(output_2)\n",
    "all_outputs.append(output_3)\n",
    "all_outputs.append(output_4)\n",
    "all_outputs.append(output_5)\n",
    "all_outputs.append(output_6)\n",
    "all_outputs.append(output_7)\n",
    "all_outputs.append(output_8)"
   ]
  },
  {
   "cell_type": "code",
   "execution_count": 44,
   "metadata": {},
   "outputs": [],
   "source": [
    "g_sig = createGenesisSignature(json.dumps([o.to_dict() for o in all_outputs]), keys_list['sk'][0])\n",
    "g_transaction = Transaction([], all_outputs, g_sig, None, True)\n",
    "json_object = json.dumps(g_transaction.to_dict(), indent=4)\n",
    "with open(\"transactions/genesis_tx.json\", \"w\") as outfile:\n",
    "    outfile.write(json_object)"
   ]
  },
  {
   "cell_type": "markdown",
   "metadata": {},
   "source": [
    "# Create file for double spending "
   ]
  },
  {
   "cell_type": "code",
   "execution_count": 45,
   "metadata": {},
   "outputs": [],
   "source": [
    "def createSignature(input, output, user_sk):\n",
    "    temp = input.encode()\n",
    "    temp += output.encode()\n",
    "    signature = user_sk.sign(temp, encoder=Base64Encoder).decode()\n",
    "    return signature"
   ]
  },
  {
   "cell_type": "code",
   "execution_count": 46,
   "metadata": {},
   "outputs": [
    {
     "name": "stdout",
     "output_type": "stream",
     "text": [
      "1st hash :005f2513d6d976698e7d9c6bc859a81ee288729404f5e1db6fa7842e9e40e880\n"
     ]
    }
   ],
   "source": [
    "ds_input = []\n",
    "ds_output = []\n",
    "ds_input_tx = transaction_input(\"1\", output_1, None)\n",
    "ds_output_tx1 = transaction_output(\"50\", keys_list['pubkey'][0].encode(encoder=Base64Encoder).decode(), None)\n",
    "ds_output_tx2 = transaction_output(\"50\", keys_list['pubkey'][1].encode(encoder=Base64Encoder).decode(), None)\n",
    "ds_input.append(ds_input_tx)\n",
    "ds_output.append(ds_output_tx1)\n",
    "ds_output.append(ds_output_tx2)\n",
    "ds_sig = createSignature(json.dumps(([i.to_dict() for i in ds_input])),json.dumps([o.to_dict() for o in ds_output]), keys_list['sk'][0])\n",
    "ds_1_Transaction = Transaction(ds_input, ds_output, ds_sig, None, False)"
   ]
  },
  {
   "cell_type": "markdown",
   "metadata": {},
   "source": [
    "2nd Transaction for Double Spend "
   ]
  },
  {
   "cell_type": "code",
   "execution_count": 47,
   "metadata": {},
   "outputs": [
    {
     "name": "stdout",
     "output_type": "stream",
     "text": [
      "1st hash :fb38e7c432eec7dd32f87422159bd1cff977b98b537a8738d32d0b24e6d0c888\n"
     ]
    }
   ],
   "source": [
    "ds_total_input = []\n",
    "ds_total_output = []\n",
    "second_ds_input_tx = transaction_input(\"1\", output_1, None)\n",
    "second_ds_output_tx1 = transaction_output(\"50\", keys_list['pubkey'][2].encode(encoder=Base64Encoder).decode(), None)\n",
    "second_ds_output_tx2 = transaction_output(\"50\", keys_list['pubkey'][3].encode(encoder=Base64Encoder).decode(), None)\n",
    "ds_total_input.append(second_ds_input_tx)\n",
    "ds_total_output.append(second_ds_output_tx1)\n",
    "ds_total_output.append(second_ds_output_tx2)\n",
    "ds_sig = createSignature(json.dumps(([i.to_dict() for i in ds_total_input])),json.dumps([o.to_dict() for o in ds_total_output]), keys_list['sk'][0])\n",
    "ds_2_Transaction = Transaction(ds_total_input, ds_total_output, ds_sig, None, False)"
   ]
  },
  {
   "cell_type": "code",
   "execution_count": 48,
   "metadata": {},
   "outputs": [],
   "source": [
    "list_objects = []\n",
    "json_object1 = ds_1_Transaction.to_dict()\n",
    "json_object2 = ds_2_Transaction.to_dict()\n",
    "list_objects.append(json_object1)\n",
    "list_objects.append(json_object2)\n",
    "json_str = json.dumps(list_objects, indent=4)\n",
    "with open(\"transactions/double_spend.json\", \"w\") as outfile:\n",
    "    outfile.write(json_str)\n"
   ]
  },
  {
   "cell_type": "markdown",
   "metadata": {},
   "source": [
    "Input and Output Match Testfile "
   ]
  },
  {
   "cell_type": "code",
   "execution_count": 49,
   "metadata": {},
   "outputs": [
    {
     "name": "stdout",
     "output_type": "stream",
     "text": [
      "1st hash :3fd3114f69c6f1eacac040066e91e32efa8b74837d605d29ec2d2fe9fe97cb46\n"
     ]
    }
   ],
   "source": [
    "total_sum_output = []\n",
    "total_sum_input = []\n",
    "sum_input_1 = transaction_input(\"1\", output_2, None)\n",
    "sum_output_1 = transaction_output(\"50\", keys_list['pubkey'][0].encode(encoder=Base64Encoder).decode(), None)\n",
    "sum_output_2 = transaction_output(\"25\", keys_list['pubkey'][7].encode(encoder=Base64Encoder).decode(), None)\n",
    "total_sum_input.append(sum_input_1)\n",
    "total_sum_output.append(sum_output_1)\n",
    "total_sum_output.append(sum_output_2)\n",
    "sum_sig = createSignature(json.dumps(([i.to_dict() for i in total_sum_input])),json.dumps([o.to_dict() for o in total_sum_output]), keys_list['sk'][1])\n",
    "sum_1_Transaction = Transaction(total_sum_input, total_sum_output, sum_sig, None, False)"
   ]
  },
  {
   "cell_type": "markdown",
   "metadata": {},
   "source": [
    "Create second transaction "
   ]
  },
  {
   "cell_type": "code",
   "execution_count": 50,
   "metadata": {},
   "outputs": [
    {
     "name": "stdout",
     "output_type": "stream",
     "text": [
      "1st hash :5958a90cfba407237e46347abb5dae7000f5a334f26e3247b6822db7b434215d\n"
     ]
    }
   ],
   "source": [
    "total_sum_input_1 = []\n",
    "total_sum_output_1 = []\n",
    "sum_input_2 = transaction_input(\"1\", output_4, None)\n",
    "sum_output_3 = transaction_output(\"30\", keys_list['pubkey'][3].encode(encoder=Base64Encoder).decode(), None)\n",
    "sum_output_4 = transaction_output(\"40\", keys_list['pubkey'][7].encode(encoder=Base64Encoder).decode(), None)\n",
    "total_sum_input_1.append(sum_input_2)\n",
    "total_sum_output_1.append(sum_output_3)\n",
    "total_sum_output_1.append(sum_output_4)\n",
    "second_sum_sig = createSignature(json.dumps(([i.to_dict() for i in total_sum_input_1])),json.dumps([o.to_dict() for o in total_sum_output_1]), keys_list['sk'][3])\n",
    "sum_2_Transaction = Transaction(total_sum_input_1, total_sum_output_1, second_sum_sig, None, False)"
   ]
  },
  {
   "cell_type": "code",
   "execution_count": 51,
   "metadata": {},
   "outputs": [],
   "source": [
    "objects = []\n",
    "obj1 = sum_1_Transaction.to_dict()\n",
    "obj2 = sum_2_Transaction.to_dict()\n",
    "objects.append(obj1)\n",
    "objects.append(obj2)\n",
    "json_str = json.dumps(objects, indent=4)\n",
    "with open(\"transactions/InputandOutputSum.json\", \"w\") as outfile:\n",
    "    outfile.write(json_str)"
   ]
  },
  {
   "cell_type": "markdown",
   "metadata": {},
   "source": [
    "Transaction Inputs Exist "
   ]
  },
  {
   "cell_type": "code",
   "execution_count": 52,
   "metadata": {},
   "outputs": [
    {
     "name": "stdout",
     "output_type": "stream",
     "text": [
      "1st hash :ce98c9ef493cf46685df68ca73d74143288f264fdf783a9bba80d55d6c310879\n"
     ]
    }
   ],
   "source": [
    "ex_input_1_list = []\n",
    "ex_output_1_list = []\n",
    "ex_input_1 = transaction_input(\"1\", output_5, None)\n",
    "ex_output_1 = transaction_output(\"50\", keys_list['pubkey'][4].encode(encoder=Base64Encoder).decode(), None)\n",
    "ex_output_2 = transaction_output(\"50\", keys_list['pubkey'][5].encode(encoder=Base64Encoder).decode(), None)\n",
    "ex_input_1_list.append(ex_input_1)\n",
    "ex_output_1_list.append(ex_output_1)\n",
    "ex_output_1_list.append(ex_output_2)\n",
    "ex_sig = createSignature(json.dumps(([i.to_dict() for i in ex_input_1_list])),json.dumps([o.to_dict() for o in ex_output_1_list]), keys_list['sk'][4])\n",
    "ex_Transaction_1 = Transaction(ex_input_1_list, ex_output_1_list, ex_sig, None, False)"
   ]
  },
  {
   "cell_type": "code",
   "execution_count": 53,
   "metadata": {},
   "outputs": [
    {
     "name": "stdout",
     "output_type": "stream",
     "text": [
      "1st hash :44c509754a54bc6d7c49a29cd8452ec77df4b5ec49340df7cb5f3854a9960a92\n"
     ]
    }
   ],
   "source": [
    "fake_input_1_list = []\n",
    "fake_output_1_list = []\n",
    "fake_output = transaction_output(\"72\", keys_list['pubkey'][3].encode(encoder=Base64Encoder).decode(), None)\n",
    "fake_input = transaction_input(\"1\", fake_output, None)\n",
    "fake_out_1 = transaction_output(\"40\", keys_list['pubkey'][3].encode(encoder=Base64Encoder).decode(), None)\n",
    "fake_out_2 = transaction_output(\"52\", keys_list['pubkey'][2].encode(encoder=Base64Encoder).decode(), None)\n",
    "fake_input_1_list.append(fake_input)\n",
    "fake_output_1_list.append(fake_out_1)\n",
    "fake_output_1_list.append(fake_out_2)\n",
    "fake_sig = createSignature(json.dumps(([i.to_dict() for i in fake_input_1_list])),json.dumps([o.to_dict() for o in fake_output_1_list]), keys_list['sk'][3])\n",
    "fake_Transaction = Transaction(fake_input_1_list, fake_output_1_list, fake_sig, None, False)"
   ]
  },
  {
   "cell_type": "code",
   "execution_count": 54,
   "metadata": {},
   "outputs": [],
   "source": [
    "object1 = ex_Transaction_1.to_dict()\n",
    "object2 = fake_Transaction.to_dict()\n",
    "objects = []\n",
    "objects.append(object1)\n",
    "objects.append(object2)\n",
    "json_str = json.dumps(objects, indent=4)\n",
    "with open(\"transactions/InputTxNotExist.json\", \"w\") as outfile:\n",
    "    outfile.write(json_str)"
   ]
  },
  {
   "cell_type": "markdown",
   "metadata": {},
   "source": [
    "Verified List of Transactions"
   ]
  },
  {
   "cell_type": "code",
   "execution_count": 55,
   "metadata": {},
   "outputs": [
    {
     "name": "stdout",
     "output_type": "stream",
     "text": [
      "1st hash :de42d62bceae3a96c411528379d6e28a6f956a2fda6d2c51fe0075838d3df5d0\n"
     ]
    }
   ],
   "source": [
    "v_input_1_list = []\n",
    "v_output_1_list = []\n",
    "v1_input = transaction_input(\"1\", output_1, None)\n",
    "v1_output = transaction_output(\"100\", keys_list['pubkey'][1].encode(encoder=Base64Encoder).decode(), None)\n",
    "v_input_1_list.append(v1_input)\n",
    "v_output_1_list.append(v1_output)\n",
    "sig = createSignature(json.dumps(([i.to_dict() for i in v_input_1_list])),json.dumps([o.to_dict() for o in v_output_1_list]), keys_list['sk'][0])\n",
    "v_transaction1 = Transaction(v_input_1_list, v_output_1_list, sig, None, False)"
   ]
  },
  {
   "cell_type": "code",
   "execution_count": 56,
   "metadata": {},
   "outputs": [
    {
     "name": "stdout",
     "output_type": "stream",
     "text": [
      "1st hash :38250d8ba21b72bf520ad69721e376cfd71fed7e921628aac0d424f6387a7e57\n"
     ]
    }
   ],
   "source": [
    "prev_transaction_number = v_transaction1.tx_number\n",
    "v_input_2_list = []\n",
    "v_output_2_list = []\n",
    "v2_input = transaction_input(prev_transaction_number, v1_output, None)\n",
    "v2_output = transaction_output(\"100\", keys_list['pubkey'][2].encode(encoder=Base64Encoder).decode(), None)\n",
    "v_input_2_list.append(v2_input)\n",
    "v_output_2_list.append(v2_output)\n",
    "sig2 = createSignature(json.dumps(([i.to_dict() for i in v_input_2_list])),json.dumps([o.to_dict() for o in v_output_2_list]), keys_list['sk'][1])\n",
    "v_transaction2 = Transaction(v_input_2_list, v_output_2_list, sig2, None, False)"
   ]
  },
  {
   "cell_type": "code",
   "execution_count": 57,
   "metadata": {},
   "outputs": [
    {
     "name": "stdout",
     "output_type": "stream",
     "text": [
      "1st hash :9ceae17c26f5e0373245ccab5d541a2b3b109d7e824d961de4833b1219627e72\n"
     ]
    }
   ],
   "source": [
    "prev_transaction_number = v_transaction2.tx_number\n",
    "v_input_3_list = []\n",
    "v_output_3_list = []\n",
    "v3_input = transaction_input(prev_transaction_number, v2_output, None)\n",
    "v3_output = transaction_output(\"100\", keys_list['pubkey'][3].encode(encoder=Base64Encoder).decode(), None)\n",
    "v_input_3_list.append(v3_input)\n",
    "v_output_3_list.append(v3_output)\n",
    "sig3 = createSignature(json.dumps(([i.to_dict() for i in v_input_3_list])),json.dumps([o.to_dict() for o in v_output_3_list]), keys_list['sk'][2])\n",
    "v_transaction3 = Transaction(v_input_3_list, v_output_3_list, sig3, None, False)"
   ]
  },
  {
   "cell_type": "code",
   "execution_count": 58,
   "metadata": {},
   "outputs": [
    {
     "name": "stdout",
     "output_type": "stream",
     "text": [
      "1st hash :87b7ad7518f76b393e89eb4ccccce619870a586872ab6633d978c792b8f59030\n"
     ]
    }
   ],
   "source": [
    "prev_transaction_number = v_transaction3.tx_number\n",
    "v_input_4_list = []\n",
    "v_output_4_list = []\n",
    "v4_input = transaction_input(prev_transaction_number, v3_output, None)\n",
    "v4_output = transaction_output(\"100\", keys_list['pubkey'][4].encode(encoder=Base64Encoder).decode(), None)\n",
    "v_input_4_list.append(v4_input)\n",
    "v_output_4_list.append(v4_output)\n",
    "sig4 = createSignature(json.dumps(([i.to_dict() for i in v_input_4_list])),json.dumps([o.to_dict() for o in v_output_4_list]), keys_list['sk'][3])\n",
    "v_transaction4 = Transaction(v_input_4_list, v_output_4_list, sig4, None, False)"
   ]
  },
  {
   "cell_type": "code",
   "execution_count": 59,
   "metadata": {},
   "outputs": [
    {
     "name": "stdout",
     "output_type": "stream",
     "text": [
      "1st hash :f66ed76c08bfe79998da6f854ab41eadafb6da30d5085e0d9d34c1e57e32e4c5\n"
     ]
    }
   ],
   "source": [
    "prev_transaction_number = v_transaction4.tx_number\n",
    "v_input_5_list = []\n",
    "v_output_5_list = []\n",
    "v5_input = transaction_input(prev_transaction_number, v4_output, None)\n",
    "v5_output = transaction_output(\"100\", keys_list['pubkey'][5].encode(encoder=Base64Encoder).decode(), None)\n",
    "v_input_5_list.append(v5_input)\n",
    "v_output_5_list.append(v5_output)\n",
    "sig5 = createSignature(json.dumps(([i.to_dict() for i in v_input_5_list])),json.dumps([o.to_dict() for o in v_output_5_list]), keys_list['sk'][4])\n",
    "v_transaction5 = Transaction(v_input_5_list, v_output_5_list, sig5, None, False)"
   ]
  },
  {
   "cell_type": "code",
   "execution_count": 60,
   "metadata": {},
   "outputs": [
    {
     "name": "stdout",
     "output_type": "stream",
     "text": [
      "1st hash :0c813777ef93df4cd20769ef66e93c59ba36010ee4d96c12b6f4426ce663ccb2\n"
     ]
    }
   ],
   "source": [
    "prev_transaction_number = v_transaction5.tx_number\n",
    "v_input_6_list = []\n",
    "v_output_6_list = []\n",
    "v6_input = transaction_input(prev_transaction_number, v5_output, None)\n",
    "v6_output = transaction_output(\"100\", keys_list['pubkey'][6].encode(encoder=Base64Encoder).decode(), None)\n",
    "v_input_6_list.append(v6_input)\n",
    "v_output_6_list.append(v6_output)\n",
    "sig6 = createSignature(json.dumps(([i.to_dict() for i in v_input_6_list])),json.dumps([o.to_dict() for o in v_output_6_list]), keys_list['sk'][5])\n",
    "v_transaction6 = Transaction(v_input_6_list, v_output_6_list, sig6, None, False)"
   ]
  },
  {
   "cell_type": "code",
   "execution_count": 61,
   "metadata": {},
   "outputs": [
    {
     "name": "stdout",
     "output_type": "stream",
     "text": [
      "1st hash :42ef7a5c9f5c5a353a6e59151a1c44ddaf27d731ebd7c0955aac1b79c8b6aa15\n"
     ]
    }
   ],
   "source": [
    "prev_transaction_number = v_transaction6.tx_number\n",
    "v_input_7_list = []\n",
    "v_output_7_list = []\n",
    "v7_input = transaction_input(prev_transaction_number, v6_output, None)\n",
    "v7_output = transaction_output(\"100\", keys_list['pubkey'][7].encode(encoder=Base64Encoder).decode(), None)\n",
    "v_input_7_list.append(v7_input)\n",
    "v_output_7_list.append(v7_output)\n",
    "sig7 = createSignature(json.dumps(([i.to_dict() for i in v_input_7_list])),json.dumps([o.to_dict() for o in v_output_7_list]), keys_list['sk'][6])\n",
    "v_transaction7 = Transaction(v_input_7_list, v_output_7_list, sig7, None, False)"
   ]
  },
  {
   "cell_type": "code",
   "execution_count": 62,
   "metadata": {},
   "outputs": [
    {
     "name": "stdout",
     "output_type": "stream",
     "text": [
      "1st hash :7540d51198ddc1980c60e7d36afe2a4d2ea9d6b2e02a02ebd64004d3f9f91f70\n"
     ]
    }
   ],
   "source": [
    "prev_transaction_number = v_transaction7.tx_number\n",
    "v_input_8_list = []\n",
    "v_output_8_list = []\n",
    "v8_input = transaction_input(prev_transaction_number, v7_output, None)\n",
    "v8_output = transaction_output(\"100\", keys_list['pubkey'][0].encode(encoder=Base64Encoder).decode(), None)\n",
    "v_input_8_list.append(v8_input)\n",
    "v_output_8_list.append(v8_output)\n",
    "sig8 = createSignature(json.dumps(([i.to_dict() for i in v_input_8_list])),json.dumps([o.to_dict() for o in v_output_8_list]), keys_list['sk'][7])\n",
    "v_transaction8 = Transaction(v_input_8_list, v_output_8_list, sig8, None, False)"
   ]
  },
  {
   "cell_type": "code",
   "execution_count": 63,
   "metadata": {},
   "outputs": [
    {
     "name": "stdout",
     "output_type": "stream",
     "text": [
      "1st hash :36b1ba160bd2898ab84c4eab2ac6e6ea033009b18cdd137b7e4c67fceef1e9ec\n"
     ]
    }
   ],
   "source": [
    "prev_transaction_number = v_transaction8.tx_number\n",
    "v_input_9_list = []\n",
    "v_output_9_list = []\n",
    "v9_input = transaction_input(prev_transaction_number, v8_output, None)\n",
    "v9_output = transaction_output(\"100\", keys_list['pubkey'][1].encode(encoder=Base64Encoder).decode(), None)\n",
    "v_input_9_list.append(v9_input)\n",
    "v_output_9_list.append(v9_output)\n",
    "sig9 = createSignature(json.dumps(([i.to_dict() for i in v_input_9_list])),json.dumps([o.to_dict() for o in v_output_9_list]), keys_list['sk'][0])\n",
    "v_transaction9 = Transaction(v_input_9_list, v_output_9_list, sig9, None, False)"
   ]
  },
  {
   "cell_type": "code",
   "execution_count": 64,
   "metadata": {},
   "outputs": [
    {
     "name": "stdout",
     "output_type": "stream",
     "text": [
      "1st hash :4762728804ca919e487e45cf97c63276d6d6ddc8a33ce969c048f88d8f8eb3fb\n"
     ]
    }
   ],
   "source": [
    "prev_transaction_number = v_transaction9.tx_number\n",
    "v_input_10_list = []\n",
    "v_output_10_list = []\n",
    "v10_input = transaction_input(prev_transaction_number, v9_output, None)\n",
    "v10_output = transaction_output(\"100\", keys_list['pubkey'][2].encode(encoder=Base64Encoder).decode(), None)\n",
    "v_input_10_list.append(v10_input)\n",
    "v_output_10_list.append(v10_output)\n",
    "sig10 = createSignature(json.dumps(([i.to_dict() for i in v_input_10_list])),json.dumps([o.to_dict() for o in v_output_10_list]), keys_list['sk'][1])\n",
    "v_transaction10 = Transaction(v_input_10_list, v_output_10_list, sig10, None, False)"
   ]
  },
  {
   "cell_type": "code",
   "execution_count": 65,
   "metadata": {},
   "outputs": [
    {
     "name": "stdout",
     "output_type": "stream",
     "text": [
      "1st hash :2589f9865a3d669d97c7cfd9786305264f09ce97be45be97a100820a09870d45\n"
     ]
    }
   ],
   "source": [
    "prev_transaction_number = v_transaction10.tx_number\n",
    "v_input_11_list = []\n",
    "v_output_11_list = []\n",
    "v11_input = transaction_input(prev_transaction_number, v10_output, None)\n",
    "v11_output = transaction_output(\"100\", keys_list['pubkey'][3].encode(encoder=Base64Encoder).decode(), None)\n",
    "v_input_11_list.append(v11_input)\n",
    "v_output_11_list.append(v11_output)\n",
    "sig11 = createSignature(json.dumps(([i.to_dict() for i in v_input_11_list])),json.dumps([o.to_dict() for o in v_output_11_list]), keys_list['sk'][2])\n",
    "v_transaction11 = Transaction(v_input_11_list, v_output_11_list, sig11, None, False)"
   ]
  },
  {
   "cell_type": "code",
   "execution_count": 66,
   "metadata": {},
   "outputs": [
    {
     "name": "stdout",
     "output_type": "stream",
     "text": [
      "1st hash :97bc7f63d13aa763cc5da2e44ba8b0bbb7748300d1a85d2b00718773a936cae5\n"
     ]
    }
   ],
   "source": [
    "prev_transaction_number = v_transaction11.tx_number\n",
    "v_input_12_list = []\n",
    "v_output_12_list = []\n",
    "v12_input = transaction_input(prev_transaction_number, v11_output, None)\n",
    "v12_output = transaction_output(\"100\", keys_list['pubkey'][4].encode(encoder=Base64Encoder).decode(), None)\n",
    "v_input_12_list.append(v12_input)\n",
    "v_output_12_list.append(v12_output)\n",
    "sig12 = createSignature(json.dumps(([i.to_dict() for i in v_input_12_list])),json.dumps([o.to_dict() for o in v_output_12_list]), keys_list['sk'][3])\n",
    "v_transaction12 = Transaction(v_input_12_list, v_output_12_list, sig12, None, False)"
   ]
  },
  {
   "cell_type": "code",
   "execution_count": 67,
   "metadata": {},
   "outputs": [
    {
     "name": "stdout",
     "output_type": "stream",
     "text": [
      "1st hash :02ef597eb9ed3b03dfc92d272680f676a99c864af1a320c8456aa03d0b2167c0\n"
     ]
    }
   ],
   "source": [
    "prev_transaction_number = v_transaction12.tx_number\n",
    "v_input_13_list = []\n",
    "v_output_13_list = []\n",
    "v13_input = transaction_input(prev_transaction_number, v12_output, None)\n",
    "v13_output = transaction_output(\"100\", keys_list['pubkey'][5].encode(encoder=Base64Encoder).decode(), None)\n",
    "v_input_13_list.append(v13_input)\n",
    "v_output_13_list.append(v13_output)\n",
    "sig13 = createSignature(json.dumps(([i.to_dict() for i in v_input_13_list])),json.dumps([o.to_dict() for o in v_output_13_list]), keys_list['sk'][4])\n",
    "v_transaction13 = Transaction(v_input_13_list, v_output_13_list, sig13, None, False)"
   ]
  },
  {
   "cell_type": "code",
   "execution_count": 68,
   "metadata": {},
   "outputs": [
    {
     "name": "stdout",
     "output_type": "stream",
     "text": [
      "1st hash :6f862f451639ac9c36e4533e1fea5a057c887f808b171da91671f1c1bded26df\n"
     ]
    }
   ],
   "source": [
    "prev_transaction_number = v_transaction13.tx_number\n",
    "v_input_14_list = []\n",
    "v_output_14_list = []\n",
    "v14_input = transaction_input(prev_transaction_number, v13_output, None)\n",
    "v14_output = transaction_output(\"100\", keys_list['pubkey'][6].encode(encoder=Base64Encoder).decode(), None)\n",
    "v_input_14_list.append(v14_input)\n",
    "v_output_14_list.append(v14_output)\n",
    "sig14 = createSignature(json.dumps(([i.to_dict() for i in v_input_14_list])),json.dumps([o.to_dict() for o in v_output_14_list]), keys_list['sk'][5])\n",
    "v_transaction14 = Transaction(v_input_14_list, v_output_14_list, sig14, None, False)"
   ]
  },
  {
   "cell_type": "code",
   "execution_count": 69,
   "metadata": {},
   "outputs": [
    {
     "name": "stdout",
     "output_type": "stream",
     "text": [
      "1st hash :1a4eccaa873912a505e3311f673cefb0610dfffa0237c01fa163ab19354f8db4\n"
     ]
    }
   ],
   "source": [
    "prev_transaction_number = v_transaction14.tx_number\n",
    "v_input_15_list = []\n",
    "v_output_15_list = []\n",
    "v15_input = transaction_input(prev_transaction_number, v14_output, None)\n",
    "v15_output = transaction_output(\"100\", keys_list['pubkey'][7].encode(encoder=Base64Encoder).decode(), None)\n",
    "v_input_15_list.append(v15_input)\n",
    "v_output_15_list.append(v15_output)\n",
    "sig15 = createSignature(json.dumps(([i.to_dict() for i in v_input_15_list])),json.dumps([o.to_dict() for o in v_output_15_list]), keys_list['sk'][6])\n",
    "v_transaction15 = Transaction(v_input_15_list, v_output_15_list, sig15, None, False)"
   ]
  },
  {
   "cell_type": "code",
   "execution_count": 72,
   "metadata": {},
   "outputs": [],
   "source": [
    "transactions = []\n",
    "transaction1 = v_transaction1.to_dict()\n",
    "transaction2 = v_transaction2.to_dict()\n",
    "transaction3 = v_transaction3.to_dict()\n",
    "transaction4 = v_transaction4.to_dict()\n",
    "transaction5 = v_transaction5.to_dict()\n",
    "transaction6 = v_transaction6.to_dict()\n",
    "transaction7 = v_transaction7.to_dict()\n",
    "transaction8 = v_transaction8.to_dict()\n",
    "transaction9 = v_transaction9.to_dict()\n",
    "transaction10 = v_transaction10.to_dict()\n",
    "transaction11 = v_transaction11.to_dict()\n",
    "transaction12 = v_transaction12.to_dict()\n",
    "transaction13 = v_transaction13.to_dict()\n",
    "transaction14 = v_transaction14.to_dict()\n",
    "transaction15 = v_transaction15.to_dict()\n",
    "transactions.append(transaction1)\n",
    "transactions.append(transaction2)\n",
    "transactions.append(transaction3)\n",
    "transactions.append(transaction4)\n",
    "transactions.append(transaction5)\n",
    "transactions.append(transaction6)\n",
    "transactions.append(transaction7)\n",
    "transactions.append(transaction8)\n",
    "transactions.append(transaction9)\n",
    "transactions.append(transaction10)\n",
    "transactions.append(transaction11)\n",
    "transactions.append(transaction12)\n",
    "transactions.append(transaction13)\n",
    "transactions.append(transaction14)\n",
    "transactions.append(transaction15)\n",
    "json_str = json.dumps(transactions, indent=4)\n",
    "with open(\"transactions/Verified_Tx.json\", \"w\") as outfile:\n",
    "    outfile.write(json_str)"
   ]
  }
 ],
 "metadata": {
  "kernelspec": {
   "display_name": "Python 3.8.10 64-bit",
   "language": "python",
   "name": "python3"
  },
  "language_info": {
   "codemirror_mode": {
    "name": "ipython",
    "version": 3
   },
   "file_extension": ".py",
   "mimetype": "text/x-python",
   "name": "python",
   "nbconvert_exporter": "python",
   "pygments_lexer": "ipython3",
   "version": "3.8.10"
  },
  "orig_nbformat": 4,
  "vscode": {
   "interpreter": {
    "hash": "949777d72b0d2535278d3dc13498b2535136f6dfe0678499012e853ee9abcab1"
   }
  }
 },
 "nbformat": 4,
 "nbformat_minor": 2
}
