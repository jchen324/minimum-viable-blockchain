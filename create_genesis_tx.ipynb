{
 "cells": [
  {
   "cell_type": "code",
   "execution_count": 1,
   "metadata": {},
   "outputs": [],
   "source": [
    "import pandas as pd\n",
    "from Transaction import *\n",
    "from nacl.signing import SigningKey\n",
    "from nacl.encoding import Base64Encoder\n",
    "from hashlib import sha256\n",
    "from nacl.encoding import HexEncoder"
   ]
  },
  {
   "cell_type": "code",
   "execution_count": 2,
   "metadata": {},
   "outputs": [],
   "source": [
    "# create the keys first using a dataframe \n",
    "keys_list = pd.DataFrame()"
   ]
  },
  {
   "cell_type": "code",
   "execution_count": 4,
   "metadata": {},
   "outputs": [],
   "source": [
    "# generate a list of 8 public keys and 8 private keys along with them and the signatures along with them since the signatures should stay the same for each public key\n",
    "pub_keys_list = []\n",
    "secret_keys_list = []\n",
    "users_list = []\n",
    "user = 'user'\n",
    "for x in range(0, 8):\n",
    "    users_list.append(user + str(x))\n",
    "    sk = SigningKey.generate()\n",
    "    secret_keys_list.append(sk)\n",
    "    pk = sk.verify_key\n",
    "    pub_keys_list.append(pk)"
   ]
  },
  {
   "cell_type": "code",
   "execution_count": 5,
   "metadata": {},
   "outputs": [],
   "source": [
    "# add these two list to the dataframe\n",
    "keys_list['users'] = users_list\n",
    "keys_list['pubkey'] = pub_keys_list\n",
    "keys_list['sk'] = secret_keys_list"
   ]
  },
  {
   "cell_type": "code",
   "execution_count": 6,
   "metadata": {},
   "outputs": [],
   "source": [
    "from nacl.signing import SigningKey\n",
    "\n",
    "def createSignature(input, output, user_sk):\n",
    "    # temp = input.encode()\n",
    "    temp = output.encode()\n",
    "    signature = user_sk.sign(temp, encoder=Base64Encoder).decode()\n",
    "    return signature"
   ]
  },
  {
   "cell_type": "code",
   "execution_count": 15,
   "metadata": {},
   "outputs": [],
   "source": [
    "# create the genesis transaction first - create 8 different ones \n",
    "output_1 = transaction_output(\"100\", keys_list['pubkey'][0].encode(encoder=Base64Encoder).decode())\n",
    "output_2 = transaction_output(\"100\", keys_list['pubkey'][1].encode(encoder=Base64Encoder).decode())\n",
    "output_3 = transaction_output(\"100\", keys_list['pubkey'][2].encode(encoder=Base64Encoder).decode())\n",
    "output_4 = transaction_output(\"100\", keys_list['pubkey'][3].encode(encoder=Base64Encoder).decode())\n",
    "output_5 = transaction_output(\"100\", keys_list['pubkey'][4].encode(encoder=Base64Encoder).decode())\n",
    "output_6 = transaction_output(\"100\", keys_list['pubkey'][5].encode(encoder=Base64Encoder).decode())\n",
    "output_7 = transaction_output(\"100\", keys_list['pubkey'][6].encode(encoder=Base64Encoder).decode())\n",
    "output_8 = transaction_output(\"100\", keys_list['pubkey'][7].encode(encoder=Base64Encoder).decode())"
   ]
  },
  {
   "cell_type": "code",
   "execution_count": 17,
   "metadata": {},
   "outputs": [],
   "source": [
    "all_outputs = []\n",
    "all_outputs.append(output_1)\n",
    "all_outputs.append(output_2)\n",
    "all_outputs.append(output_3)\n",
    "all_outputs.append(output_4)\n",
    "all_outputs.append(output_5)\n",
    "all_outputs.append(output_6)\n",
    "all_outputs.append(output_7)\n",
    "all_outputs.append(output_8)"
   ]
  },
  {
   "cell_type": "code",
   "execution_count": 18,
   "metadata": {},
   "outputs": [],
   "source": [
    "g_sig = createSignature(None, json.dumps([o.to_dict() for o in all_outputs]), keys_list['sk'][0])"
   ]
  },
  {
   "cell_type": "code",
   "execution_count": 19,
   "metadata": {},
   "outputs": [],
   "source": [
    "g_transaction = Transaction([], all_outputs, g_sig, None, True)\n",
    "json_object = json.dumps(g_transaction.to_dict(), indent=4)\n",
    "with open(\"transactions/genesis_tx.json\", \"w\") as outfile:\n",
    "    outfile.write(json_object)"
   ]
  },
  {
   "cell_type": "markdown",
   "metadata": {},
   "source": [
    "# Create file for double spending "
   ]
  },
  {
   "cell_type": "code",
   "execution_count": 11,
   "metadata": {},
   "outputs": [],
   "source": [
    "from nacl.signing import SigningKey\n",
    "\n",
    "def createSignature_nonGenesis(input, output, user_sk):\n",
    "    temp = input.encode()\n",
    "    temp += output.encode()\n",
    "    signature = user_sk.sign(temp, encoder=Base64Encoder).decode()\n",
    "    return signature"
   ]
  },
  {
   "cell_type": "code",
   "execution_count": 20,
   "metadata": {},
   "outputs": [],
   "source": [
    "ds_input_tx = transaction_input(\"1\", output_1, None)\n",
    "ds_output_tx1 = transaction_output(\"50\", keys_list['pubkey'][0].encode(encoder=Base64Encoder).decode(), None)\n",
    "ds_output_tx2 = transaction_output(\"50\", keys_list['pubkey'][1].encode(encoder=Base64Encoder).decode(), None)\n",
    "ds_input = []\n",
    "ds_input.append(ds_input_tx)\n",
    "ds_output = []\n",
    "ds_output.append(ds_output_tx1)\n",
    "ds_output.append(ds_output_tx2)\n",
    "ds_sig = createSignature_nonGenesis(json.dumps(([i.to_dict() for i in ds_input])),json.dumps([o.to_dict() for o in ds_output]), keys_list['sk'][0])\n",
    "ds_1_Transaction = Transaction(ds_input, ds_output, ds_sig, None, False)"
   ]
  },
  {
   "cell_type": "markdown",
   "metadata": {},
   "source": [
    "2nd Transaction for Double Spend "
   ]
  },
  {
   "cell_type": "code",
   "execution_count": 21,
   "metadata": {},
   "outputs": [],
   "source": [
    "second_ds_input_tx = transaction_input(\"1\", output_1, None)\n",
    "second_ds_output_tx1 = transaction_output(50, keys_list['pubkey'][2].encode(encoder=Base64Encoder).decode(), None)\n",
    "second_ds_output_tx2 = transaction_output(50, keys_list['pubkey'][3].encode(encoder=Base64Encoder).decode(), None)\n",
    "ds_total_input = []\n",
    "ds_total_input.append(second_ds_input_tx)\n",
    "ds_total_output = []\n",
    "ds_total_output.append(second_ds_output_tx1)\n",
    "ds_total_output.append(second_ds_output_tx2)\n",
    "ds_sig = createSignature_nonGenesis(json.dumps(([i.to_dict() for i in ds_total_input])),json.dumps([o.to_dict() for o in ds_total_output]), keys_list['sk'][0])\n",
    "ds_2_Transaction = Transaction(ds_total_input, ds_total_output, ds_sig, None, False)"
   ]
  },
  {
   "cell_type": "code",
   "execution_count": 23,
   "metadata": {},
   "outputs": [],
   "source": [
    "json_object1 = ds_1_Transaction.to_dict()\n",
    "json_object2 = ds_2_Transaction.to_dict()\n",
    "list_objects = []\n",
    "list_objects.append(json_object1)\n",
    "list_objects.append(json_object2)\n",
    "json_str = json.dumps(list_objects, indent=4)\n",
    "with open(\"transactions/double_spend.json\", \"w\") as outfile:\n",
    "    outfile.write(json_str)\n"
   ]
  },
  {
   "cell_type": "markdown",
   "metadata": {},
   "source": [
    "Input and Output Match Testfile "
   ]
  },
  {
   "cell_type": "code",
   "execution_count": 111,
   "metadata": {},
   "outputs": [],
   "source": [
    "sum_input_1 = transaction_input('5c777165b6968cd976b25a791bd7a2ce2746b0579ff3af0575cb41b96711b674', ds_output_tx1, None)\n",
    "sum_output_1 = transaction_output(\"25\", keys_list['pubkey'][0].encode(encoder=Base64Encoder).decode(), [])\n",
    "sum_output_2 = transaction_output(\"25\", keys_list['pubkey'][7].encode(encoder=Base64Encoder).decode(), [])\n",
    "total_sum_input = []\n",
    "total_sum_input.append(sum_input_1)\n",
    "total_sum_output = []\n",
    "total_sum_output.append(sum_output_1)\n",
    "total_sum_output.append(sum_output_2)\n",
    "sum_sig = createSignature_nonGenesis(json.dumps(([i.to_dict() for i in total_sum_input])),json.dumps([o.to_dict() for o in total_sum_output]), keys_list['sk'][0])\n",
    "sum_1_Transaction = Transaction([], total_sum_input, total_sum_output, sum_sig, None, 0)"
   ]
  },
  {
   "cell_type": "markdown",
   "metadata": {},
   "source": [
    "Create second transaction "
   ]
  },
  {
   "cell_type": "code",
   "execution_count": 118,
   "metadata": {},
   "outputs": [],
   "source": [
    "sum_input_2 = transaction_input(1, output_2, None)\n",
    "sum_input_3 = transaction_input(\"5c777165b6968cd976b25a791bd7a2ce2746b0579ff3af0575cb41b96711b674\", ds_output_tx2, None)\n",
    "sum_output_3 = transaction_output(100, keys_list['pubkey'][4].encode(encoder=Base64Encoder).decode(), [])\n",
    "sum_output_4 = transaction_output(40, keys_list['pubkey'][7].encode(encoder=Base64Encoder).decode(), [])\n",
    "total_sum_input_1 = []\n",
    "total_sum_output_1 = []\n",
    "total_sum_input_1.append(sum_input_2)\n",
    "total_sum_input_1.append(sum_input_3)\n",
    "total_sum_output_1.append(sum_output_3)\n",
    "total_sum_output_1.append(sum_output_4)\n",
    "second_sum_sig = createSignature_nonGenesis(json.dumps(([i.to_dict() for i in total_sum_input_1])),json.dumps([o.to_dict() for o in total_sum_output_1]), keys_list['sk'][1])\n",
    "sum_2_Transaction = Transaction(total_sum_input_1, total_sum_output_1, second_sum_sig, [], 0)"
   ]
  },
  {
   "cell_type": "code",
   "execution_count": 119,
   "metadata": {},
   "outputs": [],
   "source": [
    "obj1 = sum_1_Transaction.to_dict()\n",
    "obj2 = sum_2_Transaction.to_dict()\n",
    "objects = []\n",
    "objects.append(obj1)\n",
    "objects.append(obj2)\n",
    "json_str = json.dumps(objects, indent=4)\n",
    "with open(\"InputandOutputSum.json\", \"w\") as outfile:\n",
    "    outfile.write(json_str)"
   ]
  },
  {
   "cell_type": "markdown",
   "metadata": {},
   "source": [
    "Transaction Inputs Exist "
   ]
  },
  {
   "cell_type": "code",
   "execution_count": 131,
   "metadata": {},
   "outputs": [],
   "source": [
    "ex_input_1 = transaction_input(1, output_5, None)\n",
    "ex_output_1 = transaction_output(50, keys_list['pubkey'][4].encode(encoder=Base64Encoder).decode(), [])\n",
    "ex_output_2 = transaction_output(50, keys_list['pubkey'][5].encode(encoder=Base64Encoder).decode(), [])\n",
    "ex_input_1_list = []\n",
    "ex_output_1_list = []\n",
    "ex_input_1_list.append(ex_input_1)\n",
    "ex_output_1_list.append(ex_output_1)\n",
    "ex_output_1_list.append(ex_output_2)\n",
    "ex_sig = createSignature_nonGenesis(json.dumps(([i.to_dict() for i in ex_input_1_list])),json.dumps([o.to_dict() for o in ex_output_1_list]), keys_list['sk'][4])\n",
    "ex_Transaction_1 = Transaction([], ex_input_1_list, ex_output_1_list, ex_sig, [], 0)"
   ]
  },
  {
   "cell_type": "code",
   "execution_count": 132,
   "metadata": {},
   "outputs": [],
   "source": [
    "fake_output = transaction_output(72, keys_list['pubkey'][3].encode(encoder=Base64Encoder).decode(), [])\n",
    "fake_input = transaction_input(1, fake_output, None)\n",
    "fake_out_1 = transaction_output(40, keys_list['pubkey'][3].encode(encoder=Base64Encoder).decode(), [])\n",
    "fake_out_2 = transaction_output(52, keys_list['pubkey'][2].encode(encoder=Base64Encoder).decode(), [])\n",
    "fake_input_1_list = []\n",
    "fake_output_1_list = []\n",
    "fake_input_1_list.append(fake_input)\n",
    "fake_output_1_list.append(fake_out_1)\n",
    "fake_output_1_list.append(fake_out_2)\n",
    "fake_sig = createSignature_nonGenesis(json.dumps(([i.to_dict() for i in fake_input_1_list])),json.dumps([o.to_dict() for o in fake_output_1_list]), keys_list['sk'][3])\n",
    "fake_Transaction = Transaction([], fake_input_1_list, fake_output_1_list, fake_sig, [], 0)"
   ]
  },
  {
   "cell_type": "code",
   "execution_count": 133,
   "metadata": {},
   "outputs": [],
   "source": [
    "object1 = ex_Transaction_1.to_dict()\n",
    "object2 = fake_Transaction.to_dict()\n",
    "objects = []\n",
    "objects.append(object1)\n",
    "objects.append(object2)\n",
    "json_str = json.dumps(objects, indent=4)\n",
    "with open(\"InputTxNotExist.json\", \"w\") as outfile:\n",
    "    outfile.write(json_str)"
   ]
  },
  {
   "cell_type": "code",
   "execution_count": null,
   "metadata": {},
   "outputs": [],
   "source": [
    "# True transaction file with 15 different transactions and 8 users all involved "
   ]
  },
  {
   "cell_type": "code",
   "execution_count": 135,
   "metadata": {},
   "outputs": [],
   "source": [
    "v_input_1 = transaction_input(1, output_1, None)\n",
    "v_output_1 = transaction_output(50, keys_list['pubkey'][0].encode(encoder=Base64Encoder).decode(), [])\n",
    "v_output_2 = transaction_output(50, keys_list['pubkey'][1].encode(encoder=Base64Encoder).decode(), [])\n",
    "v_input_1_list = []\n",
    "v_output_1_list = []\n",
    "v_input_1_list.append(v_input_1)\n",
    "v_output_1_list.append(v_output_1)\n",
    "v_output_1_list.append(v_output_2)\n",
    "v_sig = createSignature_nonGenesis(json.dumps(([i.to_dict() for i in v_input_1_list])),json.dumps([o.to_dict() for o in v_output_1_list]), keys_list['sk'][0])\n",
    "v_Transaction_1 = Transaction([], v_input_1_list, v_output_1_list, v_sig, [], 0)"
   ]
  },
  {
   "cell_type": "code",
   "execution_count": null,
   "metadata": {},
   "outputs": [],
   "source": []
  },
  {
   "cell_type": "code",
   "execution_count": 136,
   "metadata": {},
   "outputs": [],
   "source": [
    "v1 = v_Transaction_1.to_dict()\n",
    "objects = []\n",
    "objects.append(v1)\n",
    "json_str = json.dumps(objects, indent=4)\n",
    "with open(\"VerifiedTransactions.json\", \"w\") as outfile:\n",
    "    outfile.write(json_str)"
   ]
  }
 ],
 "metadata": {
  "kernelspec": {
   "display_name": "venv",
   "language": "python",
   "name": "python3"
  },
  "language_info": {
   "codemirror_mode": {
    "name": "ipython",
    "version": 3
   },
   "file_extension": ".py",
   "mimetype": "text/x-python",
   "name": "python",
   "nbconvert_exporter": "python",
   "pygments_lexer": "ipython3",
   "version": "3.8.9"
  },
  "orig_nbformat": 4,
  "vscode": {
   "interpreter": {
    "hash": "3cebf0bba70b35314e96347d8018d154febdac7bb84e889dd2ac53214d627345"
   }
  }
 },
 "nbformat": 4,
 "nbformat_minor": 2
}
